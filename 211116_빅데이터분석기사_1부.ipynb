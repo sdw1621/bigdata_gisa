{
  "nbformat": 4,
  "nbformat_minor": 0,
  "metadata": {
    "colab": {
      "name": "211116_빅데이터분석기사_1부.ipynb",
      "provenance": [],
      "collapsed_sections": [],
      "authorship_tag": "ABX9TyMOYfTplcWIeCKaVoTjyJll",
      "include_colab_link": true
    },
    "kernelspec": {
      "name": "python3",
      "display_name": "Python 3"
    },
    "language_info": {
      "name": "python"
    }
  },
  "cells": [
    {
      "cell_type": "markdown",
      "metadata": {
        "id": "view-in-github",
        "colab_type": "text"
      },
      "source": [
        "<a href=\"https://colab.research.google.com/github/sdw1621/bigdata_gisa/blob/main/211116_%EB%B9%85%EB%8D%B0%EC%9D%B4%ED%84%B0%EB%B6%84%EC%84%9D%EA%B8%B0%EC%82%AC_1%EB%B6%80.ipynb\" target=\"_parent\"><img src=\"https://colab.research.google.com/assets/colab-badge.svg\" alt=\"Open In Colab\"/></a>"
      ]
    },
    {
      "cell_type": "code",
      "metadata": {
        "colab": {
          "base_uri": "https://localhost:8080/"
        },
        "id": "uN_xK0oRFPpx",
        "outputId": "e08d2b53-18d5-414f-c240-d0c1220c37b5"
      },
      "source": [
        "# 정수형, 실수형\n",
        "a = 123\n",
        "b = -123.4\n",
        "a+b"
      ],
      "execution_count": 2,
      "outputs": [
        {
          "output_type": "execute_result",
          "data": {
            "text/plain": [
              "-0.4000000000000057"
            ]
          },
          "metadata": {},
          "execution_count": 2
        }
      ]
    },
    {
      "cell_type": "code",
      "metadata": {
        "colab": {
          "base_uri": "https://localhost:8080/"
        },
        "id": "ldYKyB8MFfpW",
        "outputId": "8ed497ff-efda-41a3-8651-00fe6d7ae3f8"
      },
      "source": [
        "# 8진수\n",
        "c = 0o34\n",
        "d = 0o24\n",
        "c+d"
      ],
      "execution_count": 3,
      "outputs": [
        {
          "output_type": "execute_result",
          "data": {
            "text/plain": [
              "48"
            ]
          },
          "metadata": {},
          "execution_count": 3
        }
      ]
    },
    {
      "cell_type": "code",
      "metadata": {
        "colab": {
          "base_uri": "https://localhost:8080/"
        },
        "id": "WosJPavGFyOk",
        "outputId": "28e0f427-8de5-4233-e717-ad5c9561f6e5"
      },
      "source": [
        "# 16진수\n",
        "e = 0x2A\n",
        "f = 0xFF\n",
        "e+f"
      ],
      "execution_count": 4,
      "outputs": [
        {
          "output_type": "execute_result",
          "data": {
            "text/plain": [
              "297"
            ]
          },
          "metadata": {},
          "execution_count": 4
        }
      ]
    },
    {
      "cell_type": "code",
      "metadata": {
        "colab": {
          "base_uri": "https://localhost:8080/"
        },
        "id": "N8mP1_juF6oc",
        "outputId": "ed33a8cb-dfa9-4a92-d9c5-a5f72ce927d2"
      },
      "source": [
        "# 문자열\n",
        "s = 'WiseInCompany'\n",
        "s1 = \"WiseInComany\"\n",
        "s2 = '''WiseInCompany'''\n",
        "s3 = \"123\"\n",
        "print(s)\n",
        "print(s1)\n",
        "print(s2)\n",
        "print(s3)\n",
        "print(type(s3))"
      ],
      "execution_count": 6,
      "outputs": [
        {
          "output_type": "stream",
          "name": "stdout",
          "text": [
            "WiseInCompany\n",
            "WiseInComany\n",
            "WiseInCompany\n",
            "123\n",
            "<class 'str'>\n"
          ]
        }
      ]
    },
    {
      "cell_type": "code",
      "metadata": {
        "colab": {
          "base_uri": "https://localhost:8080/"
        },
        "id": "NJ00jOciGdkm",
        "outputId": "a6a531b8-bbfc-4d83-84b5-c24f2cf8ff86"
      },
      "source": [
        "# 문자열 연산하기\n",
        "a = \"Wise\"\n",
        "b = \"InCompany\"\n",
        "print(a+b)\n",
        "a = \"WiseInCompany\"\n",
        "print(a*2)"
      ],
      "execution_count": 7,
      "outputs": [
        {
          "output_type": "stream",
          "name": "stdout",
          "text": [
            "WiseInCompany\n",
            "WiseInCompanyWiseInCompany\n"
          ]
        }
      ]
    },
    {
      "cell_type": "code",
      "metadata": {
        "colab": {
          "base_uri": "https://localhost:8080/"
        },
        "id": "yC3zgBHJHGEH",
        "outputId": "4025763d-fa25-4186-e9fe-e4bb02f7e928"
      },
      "source": [
        "# 문자열 인덱싱 및 슬라이싱\n",
        "a = \"Wise In Company\"\n",
        "print(a[3])\n",
        "print(a[-3])\n",
        "print(a[0:15])\n",
        "print(a[4:])\n",
        "print(a[0:4])"
      ],
      "execution_count": 8,
      "outputs": [
        {
          "output_type": "stream",
          "name": "stdout",
          "text": [
            "e\n",
            "a\n",
            "Wise In Company\n",
            " In Company\n",
            "Wise\n"
          ]
        }
      ]
    },
    {
      "cell_type": "code",
      "metadata": {
        "colab": {
          "base_uri": "https://localhost:8080/"
        },
        "id": "XVhEniGyHrxu",
        "outputId": "dbe2f01a-ae63-4f24-e1aa-0d1537e3fae2"
      },
      "source": [
        " # 리스트\n",
        "a = [1,2,3,4,5]\n",
        "print(a)\n",
        "\n",
        "# 리스트 인덱싱\n",
        "a = [1,2,3,4,5]\n",
        "print(a[0])\n",
        "print(a[-1])\n",
        "\n",
        "# 리스트 슬라이싱\n",
        "a = [1,2,3,4,5]\n",
        "print(a[0:5])\n",
        "print(a[:5])\n",
        "print(a[2:])"
      ],
      "execution_count": 10,
      "outputs": [
        {
          "output_type": "stream",
          "name": "stdout",
          "text": [
            "[1, 2, 3, 4, 5]\n",
            "1\n",
            "5\n",
            "[1, 2, 3, 4, 5]\n",
            "[1, 2, 3, 4, 5]\n",
            "[3, 4, 5]\n"
          ]
        }
      ]
    },
    {
      "cell_type": "code",
      "metadata": {
        "colab": {
          "base_uri": "https://localhost:8080/"
        },
        "id": "ZDKqNHF3IAfv",
        "outputId": "d51f332e-76c5-436d-fedd-0b5078215654"
      },
      "source": [
        "# 리스트 요소 추가/수정/삭제\n",
        "a = [1,2,3,4,5]\n",
        "a.append(6)\n",
        "a[0] = 0\n",
        "del a[1]\n",
        "print(a)"
      ],
      "execution_count": 11,
      "outputs": [
        {
          "output_type": "stream",
          "name": "stdout",
          "text": [
            "[0, 3, 4, 5, 6]\n"
          ]
        }
      ]
    },
    {
      "cell_type": "code",
      "metadata": {
        "colab": {
          "base_uri": "https://localhost:8080/"
        },
        "id": "h3x3jw5IIeuo",
        "outputId": "59e634ab-e418-40ec-fb36-af2168418f97"
      },
      "source": [
        "# 리스트 병합 및 반복\n",
        "a = [1,2]\n",
        "b = [3,4,5]\n",
        "c = a + b\n",
        "print(c)\n",
        "d = a * 3\n",
        "print(d)"
      ],
      "execution_count": 12,
      "outputs": [
        {
          "output_type": "stream",
          "name": "stdout",
          "text": [
            "[1, 2, 3, 4, 5]\n",
            "[1, 2, 1, 2, 1, 2]\n"
          ]
        }
      ]
    },
    {
      "cell_type": "code",
      "metadata": {
        "colab": {
          "base_uri": "https://localhost:8080/"
        },
        "id": "zx8ntKq2I7Nq",
        "outputId": "30de87ee-50e6-4903-9533-0a4ea6c3f219"
      },
      "source": [
        "# 튜플\n",
        "t = (1,2,3,4,5)\n",
        "\n",
        "# 튜플 인덱싱 및 슬라이싱\n",
        "t1 = (1,2,3)\n",
        "print(t[1]) # 인덱싱\n",
        "print(t[0:3]) # 슬라이싱"
      ],
      "execution_count": 13,
      "outputs": [
        {
          "output_type": "stream",
          "name": "stdout",
          "text": [
            "2\n",
            "(1, 2, 3)\n"
          ]
        }
      ]
    },
    {
      "cell_type": "code",
      "metadata": {
        "colab": {
          "base_uri": "https://localhost:8080/"
        },
        "id": "1XxPTbuNJnmo",
        "outputId": "cd140e70-ab50-4bc6-f2cc-c05fec6e43af"
      },
      "source": [
        "a = (1,2)\n",
        "b = (3,4,5)\n",
        "c = a + b\n",
        "print(d)\n",
        "d = a * 3\n",
        "print(d)"
      ],
      "execution_count": 15,
      "outputs": [
        {
          "output_type": "stream",
          "name": "stdout",
          "text": [
            "(1, 2, 1, 2, 1, 2)\n",
            "(1, 2, 1, 2, 1, 2)\n"
          ]
        }
      ]
    },
    {
      "cell_type": "code",
      "metadata": {
        "colab": {
          "base_uri": "https://localhost:8080/"
        },
        "id": "uArn9Qh4J8hJ",
        "outputId": "d6eb8188-4c26-4449-dfd1-00e30592026e"
      },
      "source": [
        "# 튜플 변수 할당\n",
        "name = (\"David\", \"Kim\")\n",
        "print(name)\n",
        "firstname, lastname = (\"David\", \"Kim\")\n",
        "print(lastname, \", \", firstname)"
      ],
      "execution_count": 17,
      "outputs": [
        {
          "output_type": "stream",
          "name": "stdout",
          "text": [
            "('David', 'Kim')\n",
            "Kim ,  David\n"
          ]
        }
      ]
    },
    {
      "cell_type": "code",
      "metadata": {
        "colab": {
          "base_uri": "https://localhost:8080/"
        },
        "id": "iZNKS71uKbVM",
        "outputId": "4b264495-c230-4de3-be61-7f0d34104a69"
      },
      "source": [
        "# 집합\n",
        "set = {1,1,2,3}\n",
        "print(set)"
      ],
      "execution_count": 18,
      "outputs": [
        {
          "output_type": "stream",
          "name": "stdout",
          "text": [
            "{1, 2, 3}\n"
          ]
        }
      ]
    },
    {
      "cell_type": "code",
      "metadata": {
        "colab": {
          "base_uri": "https://localhost:8080/"
        },
        "id": "dUbaPT0XK6W7",
        "outputId": "9505fb77-470b-4aa1-ceb0-29e73da78c1b"
      },
      "source": [
        "# 집합 추가 및 삭제1\n",
        "set = {1,1,2,3}\n",
        "set.add(4) # 요소 하나 추가\n",
        "set"
      ],
      "execution_count": 19,
      "outputs": [
        {
          "output_type": "execute_result",
          "data": {
            "text/plain": [
              "{1, 2, 3, 4}"
            ]
          },
          "metadata": {},
          "execution_count": 19
        }
      ]
    },
    {
      "cell_type": "code",
      "metadata": {
        "colab": {
          "base_uri": "https://localhost:8080/"
        },
        "id": "Gt3vlntuLCau",
        "outputId": "c774166f-e913-4578-9c17-aa845956fbfb"
      },
      "source": [
        "# 집합 추가 및 삭제2\n",
        "set = {1,1,2,3}\n",
        "set.update({4,5,6}) # 요소 여러 개 추가\n",
        "set"
      ],
      "execution_count": 20,
      "outputs": [
        {
          "output_type": "execute_result",
          "data": {
            "text/plain": [
              "{1, 2, 3, 4, 5, 6}"
            ]
          },
          "metadata": {},
          "execution_count": 20
        }
      ]
    },
    {
      "cell_type": "code",
      "metadata": {
        "colab": {
          "base_uri": "https://localhost:8080/"
        },
        "id": "shJqgPyILV4v",
        "outputId": "5b4f7500-018f-4108-8124-1663be1300e2"
      },
      "source": [
        "set.remove(1)\n",
        "set"
      ],
      "execution_count": 21,
      "outputs": [
        {
          "output_type": "execute_result",
          "data": {
            "text/plain": [
              "{2, 3, 4, 5, 6}"
            ]
          },
          "metadata": {},
          "execution_count": 21
        }
      ]
    },
    {
      "cell_type": "code",
      "metadata": {
        "id": "P1c0Irn-Lb9z"
      },
      "source": [
        "# 요소 모두 삭제\n",
        "set.clear()\n",
        "set"
      ],
      "execution_count": 22,
      "outputs": []
    },
    {
      "cell_type": "code",
      "metadata": {
        "colab": {
          "base_uri": "https://localhost:8080/"
        },
        "id": "8uoNbqO9LhaL",
        "outputId": "368516f3-2da0-49e6-808c-646e19396a11"
      },
      "source": [
        "# 집합 연산\n",
        "a = {1,2,3}\n",
        "b = {1,3,4}\n",
        "\n",
        "# 교집합\n",
        "c = a & b\n",
        "print(c)\n",
        "\n",
        "# 합집합\n",
        "d = a|b\n",
        "print(d)\n",
        "\n",
        "# 차집합\n",
        "e = a - b\n",
        "print(e)"
      ],
      "execution_count": 25,
      "outputs": [
        {
          "output_type": "stream",
          "name": "stdout",
          "text": [
            "{1, 3}\n",
            "{1, 2, 3, 4}\n",
            "{2}\n"
          ]
        }
      ]
    },
    {
      "cell_type": "code",
      "metadata": {
        "colab": {
          "base_uri": "https://localhost:8080/"
        },
        "id": "or9S7KVELiOP",
        "outputId": "b2f9e8d7-57d6-46ef-bab3-17a9b4cba7b7"
      },
      "source": [
        "# 사전\n",
        "test = {\"Kim\":90, \"Jeong\":80, \"Park\":75}\n",
        "test[\"Kim\"] # 키 이용"
      ],
      "execution_count": 26,
      "outputs": [
        {
          "output_type": "execute_result",
          "data": {
            "text/plain": [
              "90"
            ]
          },
          "metadata": {},
          "execution_count": 26
        }
      ]
    },
    {
      "cell_type": "code",
      "metadata": {
        "colab": {
          "base_uri": "https://localhost:8080/"
        },
        "id": "YoOn5hqSORGn",
        "outputId": "a73284e4-ec66-4e0f-c2f2-55b78913a040"
      },
      "source": [
        "# 사전 추가/수정/삭제\n",
        "test = {\"Kim\":90, \"Jeong\":80, \"Park\":75}\n",
        "test[\"Jeong\"] = 85\n",
        "test[\"Cho\"] = 95\n",
        "del test[\"Park\"]\n",
        "print(test)"
      ],
      "execution_count": 27,
      "outputs": [
        {
          "output_type": "stream",
          "name": "stdout",
          "text": [
            "{'Kim': 90, 'Jeong': 85, 'Cho': 95}\n"
          ]
        }
      ]
    },
    {
      "cell_type": "code",
      "metadata": {
        "colab": {
          "base_uri": "https://localhost:8080/"
        },
        "id": "zKKK5Jz6Or1w",
        "outputId": "5c8960fc-1f73-4c74-b775-4e7dfbcd1fdb"
      },
      "source": [
        "# 키 또는 값 가져오기\n",
        "test = {\"Kim\":90, \"Jeong\":80, \"Park\":75}\n",
        "print(test.keys())\n",
        "print(test.values())"
      ],
      "execution_count": 29,
      "outputs": [
        {
          "output_type": "stream",
          "name": "stdout",
          "text": [
            "dict_keys(['Kim', 'Jeong', 'Park'])\n",
            "dict_values([90, 80, 75])\n"
          ]
        }
      ]
    },
    {
      "cell_type": "code",
      "metadata": {
        "id": "qAG0VLStPaLf"
      },
      "source": [
        ""
      ],
      "execution_count": null,
      "outputs": []
    }
  ]
}